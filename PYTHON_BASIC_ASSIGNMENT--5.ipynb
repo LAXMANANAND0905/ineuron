{
 "cells": [
  {
   "cell_type": "markdown",
   "id": "53885b38",
   "metadata": {},
   "source": [
    "# 1. What does an empty dictionary's code look like?"
   ]
  },
  {
   "cell_type": "code",
   "execution_count": null,
   "id": "2e8472e6",
   "metadata": {},
   "outputs": [],
   "source": [
    "iT is an unordered collection of data values, used to store data values\n",
    "Data Types that hold only a single value as an element.\n",
    "Dictionary holds key:value pair. \n",
    "Represented in curly parantheses\n",
    "\n",
    "emptyDict = {}\n",
    "print(emptyDict)\n",
    "print(type(emptyDict))\n",
    "\n",
    "#output\n",
    "{}\n",
    "<class 'dict'>"
   ]
  },
  {
   "cell_type": "markdown",
   "id": "7f5b410e",
   "metadata": {},
   "source": [
    "# 2. What is the value of a dictionary value with the key 'foo' and the value 42?"
   ]
  },
  {
   "cell_type": "code",
   "execution_count": 6,
   "id": "b05ab3ad",
   "metadata": {},
   "outputs": [],
   "source": [
    "dct_given={'foo':42}\n",
    "\n"
   ]
  },
  {
   "cell_type": "code",
   "execution_count": 7,
   "id": "99088a8a",
   "metadata": {},
   "outputs": [
    {
     "data": {
      "text/plain": [
       "dict_values([42])"
      ]
     },
     "execution_count": 7,
     "metadata": {},
     "output_type": "execute_result"
    }
   ],
   "source": [
    "dct_given.values()"
   ]
  },
  {
   "cell_type": "markdown",
   "id": "9d063ded",
   "metadata": {},
   "source": [
    "\n",
    "# 3. What is the most significant distinction between a dictionary and a list?"
   ]
  },
  {
   "cell_type": "code",
   "execution_count": null,
   "id": "1852e2ad",
   "metadata": {},
   "outputs": [],
   "source": [
    "A list is an ordered sequence of objects, whereas dictionaries are unordered sets.\n",
    "\n",
    "items in dictionaries are accessed through keys and not by their position(indices) as in list.\n",
    "\n",
    "list--[]\n",
    "dictionary--{}\n",
    "\n",
    "in lists order of the elements are maintained\n",
    "dictionaries are unordered.\n"
   ]
  },
  {
   "cell_type": "markdown",
   "id": "04cbe9ed",
   "metadata": {},
   "source": [
    "# 4. What happens if you try to access spam['foo'] if spam is {'bar': 100}?"
   ]
  },
  {
   "cell_type": "code",
   "execution_count": null,
   "id": "8c796252",
   "metadata": {},
   "outputs": [],
   "source": [
    "Since we dont have key 'foo' in the given dictionary spam it will give error output to  keyError.\n",
    "\n",
    "#KeyError                                  Traceback (most recent call last)\n",
    "#<ipython-input-9-9b5a94d1de8d> in <module>\n",
    "#----> 1 spam['foo']\n",
    "\n",
    "#KeyError: 'foo'"
   ]
  },
  {
   "cell_type": "markdown",
   "id": "95c9addf",
   "metadata": {},
   "source": [
    "# 5. If a dictionary is stored in spam, what is the difference between the expressions 'cat' in spam and 'cat' in spam.keys()?"
   ]
  },
  {
   "cell_type": "code",
   "execution_count": null,
   "id": "c967e69d",
   "metadata": {},
   "outputs": [],
   "source": [
    "The in operator in the 'cat' in spam checks for a 'cat' key in the dictionary. it gives output in boolean values. \n",
    "True or False\n",
    "\n",
    "\n",
    "\n",
    "spam={\"cat\":\"key1\"}\n",
    "-----\n",
    "\"cat\" in spam\n",
    "\n",
    "#OUTPUT\n",
    "True\n",
    "\n",
    "\n",
    "while 'cat' in spam.keys() checks whether there is 'cat' in the given dictionary &prints True or False\n",
    "\n",
    "\n",
    "spam={\"cat\":\"key1\"}\n",
    "\"cat\" in spam.keys()\n",
    "#output\n",
    "True"
   ]
  },
  {
   "cell_type": "markdown",
   "id": "fe78cccc",
   "metadata": {},
   "source": [
    "# 6.If a dictionary is stored in spam, what is the difference between the expressions 'cat' in spam and 'cat' in spam.values()?"
   ]
  },
  {
   "cell_type": "code",
   "execution_count": null,
   "id": "166b0695",
   "metadata": {},
   "outputs": [],
   "source": [
    " \"cat\" in spam checks whether there is a 'cat' key in the dictionary,\n",
    "    \n",
    "while 'cat' in spam.values() checks whether there is a value 'cat' for one of \n",
    "the keys in spam.\n",
    "\n",
    "\n",
    "spam={\"cat\":\"value1\"}\n",
    "-----\n",
    "\"cat\" in spam\n",
    "\n",
    "#OUTPUT\n",
    "True\n",
    "\n",
    "\n",
    "while 'cat' in spam.keys() checks all the keys in the given dictionary & print them out.\n",
    "\n",
    "\n",
    "spam={\"cat\":\"key1\"}\n",
    "\"cat\" in spam.values()\n",
    "#output\n",
    "False"
   ]
  },
  {
   "cell_type": "markdown",
   "id": "0bde5966",
   "metadata": {},
   "source": [
    "# 7. What is a shortcut for the following code?\n",
    "#  if 'color' not in spam:\n",
    "#  spam['color'] = 'black'\n"
   ]
  },
  {
   "cell_type": "code",
   "execution_count": null,
   "id": "574cc55e",
   "metadata": {},
   "outputs": [],
   "source": [
    "considering \n",
    "\n",
    "spam={\"cat\":\"value1\"}\n",
    "\n",
    "spam.setdefault(\"color\",\"black\")\n",
    "\n",
    "#output\n",
    "\"black\"\n",
    "\n",
    "spam\n",
    "\n",
    "#output\n",
    "\n",
    "{'cat': 'key1', 'color': 'black'}"
   ]
  },
  {
   "cell_type": "markdown",
   "id": "c00f5ce4",
   "metadata": {},
   "source": [
    "# 8. How do you \"pretty print\" dictionary values using which module and function?"
   ]
  },
  {
   "cell_type": "code",
   "execution_count": null,
   "id": "8497d39b",
   "metadata": {},
   "outputs": [],
   "source": [
    "the module used to pretty print is by importing pprint()\n",
    "\n",
    "import pprint()\n",
    "\n",
    "by importing it we get access to functions like\n",
    "\n",
    "pprint() & pformat()\n",
    "\n",
    "pprint.pprint() is used to print values from a dictionary\n",
    "\n",
    "it helps in converting the nested dictionary data & large dictionary data into more readable form.\n",
    "\n"
   ]
  }
 ],
 "metadata": {
  "kernelspec": {
   "display_name": "Python 3",
   "language": "python",
   "name": "python3"
  },
  "language_info": {
   "codemirror_mode": {
    "name": "ipython",
    "version": 3
   },
   "file_extension": ".py",
   "mimetype": "text/x-python",
   "name": "python",
   "nbconvert_exporter": "python",
   "pygments_lexer": "ipython3",
   "version": "3.8.8"
  }
 },
 "nbformat": 4,
 "nbformat_minor": 5
}
