{
 "cells": [
  {
   "cell_type": "markdown",
   "id": "0a4dca78",
   "metadata": {},
   "source": [
    "# 1. What is the name of the feature responsible for generating Regex objects?"
   ]
  },
  {
   "cell_type": "code",
   "execution_count": null,
   "id": "435e1a79",
   "metadata": {},
   "outputs": [],
   "source": [
    "All the Regex objects in python are in \n",
    "-------------\n",
    "re module\n",
    "-------------\n",
    "by importing the re module & then the feature which is responsible for \n",
    "\n",
    "generating the regex objects is \n",
    "--------------------\n",
    "re.compile()\n",
    "------------------\n",
    "passing a string value which is in pattern of the required regular expression\n",
    "\n",
    "returns a regex pattern objects are the Regex objects\n"
   ]
  },
  {
   "cell_type": "markdown",
   "id": "b150a095",
   "metadata": {},
   "source": [
    "# 2. Why do raw strings often appear in Regex objects?"
   ]
  },
  {
   "cell_type": "code",
   "execution_count": null,
   "id": "e278b7d0",
   "metadata": {},
   "outputs": [],
   "source": [
    "Raw strings are specified using the letter 'r' before first quote\n",
    "of string value followed by pattern of required expressions.\n",
    "\n",
    "Generally in python \\ (backslash) is used as escape character.\n",
    "\n",
    "in order to avoid python from  considering \\ as escape character and print\n",
    "nothing we convert it into a raw string by placing r before it.\n",
    "\n",
    "#prints nothing works as escape character\n",
    "print('a\\b')\n",
    "\n",
    "output\n",
    "#empty--nothing to display\n",
    "\n",
    "print(r'a/b')\n",
    "\n",
    "output\n",
    "\n",
    "a/b\n",
    "\n",
    "The output in 2nd case is as it is since we used it as raw string.\n",
    "\n",
    "\n",
    "\n"
   ]
  },
  {
   "cell_type": "markdown",
   "id": "be632fb8",
   "metadata": {},
   "source": [
    "# 3. What is the return value of the search() method?"
   ]
  },
  {
   "cell_type": "code",
   "execution_count": null,
   "id": "5bc4a11e",
   "metadata": {},
   "outputs": [],
   "source": [
    "Regex object search() method searches string it is passed for any matches in regex\n",
    "\n",
    "search() returns None if ther regex pattern is not found\n",
    "\n",
    "returns a match object if pattern found\n",
    "\n",
    "Match objects have a group()method\n",
    "\n",
    "that will return the actual text from the searched string.\n",
    "\n",
    "eg:\n",
    "    \n",
    "#importing module    \n",
    "import re\n",
    "#required string format to check\n",
    "mybirthdayRegex=re.compile(r'\\d\\d-\\d\\d-\\d\\d\\d\\d')\n",
    "\n",
    "#search method will search the text as shown below\n",
    "mo=mybirthdayRegex.search('My Birthday is 08-12-2021')\n",
    "\n"
   ]
  },
  {
   "cell_type": "markdown",
   "id": "a12cd300",
   "metadata": {},
   "source": [
    "# 4.. From a Match item, how do you get the actual strings that match the pattern?"
   ]
  },
  {
   "cell_type": "code",
   "execution_count": null,
   "id": "e916902d",
   "metadata": {},
   "outputs": [],
   "source": [
    "once the search is done using the search() method in the given string\n",
    "\n",
    " If the pattern is found, returns a Match object. \n",
    "    \n",
    "Match objects have a group() method that will return the actual matched \n",
    "text from the searched string. \n",
    "\n",
    "eg:\n",
    "#importing module    \n",
    "import re\n",
    "#required string format to check\n",
    "mybirthdayRegex=re.compile(r'\\d\\d-\\d\\d-\\d\\d\\d\\d')\n",
    "\n",
    "#search method will search the text as shown below\n",
    "mo=mybirthdayRegex.search('My Birthday is 08-12-2021')\n",
    "\n",
    "# once the match object is found it is picked up by using the group\n",
    "print('My Birthday is on ' + mo.group())\n",
    "\n",
    "output:\n",
    "    \n",
    "My Birthday is on 08-12-2021"
   ]
  },
  {
   "cell_type": "markdown",
   "id": "c9a4050b",
   "metadata": {},
   "source": [
    "# 5. In the regex which created from the r'(\\d\\d\\d)-(\\d\\d\\d-\\d\\d\\d\\d)', what does group zero cover? Group 2? Group 1?"
   ]
  },
  {
   "cell_type": "code",
   "execution_count": null,
   "id": "9771b2b4",
   "metadata": {},
   "outputs": [],
   "source": [
    "import re\n",
    "\n",
    "regexcreated=re.compile(r'(\\d\\d\\d)-(\\d\\d\\d-\\d\\d\\d\\d)')\n",
    "\n",
    "#lets consider that we want to extract the telephone number \n",
    "#using regex 040-255-5211\n",
    "mo=regexcreated.search('my phone number is : 040-255-5211' )\n",
    "\n",
    "#checking for group zero\n",
    "print('my phone number is ' + mo.group(0))\n",
    "print('my phone number is ' + mo.group(1))\n",
    "print('my phone number is ' + mo.group(2))\n",
    "----------\n",
    "output :\n",
    "#group(0) gives entire number in called for\n",
    "my phone number is 040-255-5211\n",
    "\n",
    "#group(1) gives the first 3 characters of string enclosed in brackets\n",
    "my phone number is 040\n",
    "\n",
    "#group(2)gives the remaining characters of the string enclosed in brackets\n",
    "my phone number is 255-5211\n",
    "      \n"
   ]
  },
  {
   "cell_type": "markdown",
   "id": "333b9ff7",
   "metadata": {},
   "source": [
    "# 6. In standard expression syntax, parentheses and intervals have distinct meanings. How can you tell a regex that you want it to fit real parentheses and periods?"
   ]
  },
  {
   "cell_type": "code",
   "execution_count": null,
   "id": "704d38d9",
   "metadata": {},
   "outputs": [],
   "source": [
    "The \\ (and \\) escape characters in the raw string passed to re.compile() will match actual\n",
    "\n",
    "actual parenthesis characters.The Character after the \\ is considered by the regex\n",
    "\n",
    "import re\n",
    "# using parentheses and periods\n",
    "mybirthdayRegex=re.compile(r'(\\(\\d\\d\\))-(\\d\\d-\\d\\d\\d\\d)')\n",
    "check=mybirthdayRegex.search('My Birthday is (08)-12-2021')\n",
    "check.group()\n",
    "\n",
    "#output\n",
    "'(08)-12-2021'"
   ]
  },
  {
   "cell_type": "markdown",
   "id": "2ce3b957",
   "metadata": {},
   "source": [
    "# 7. The findall() method returns a string list or a list of string tuples. What causes it to return one of the two options?"
   ]
  },
  {
   "cell_type": "code",
   "execution_count": null,
   "id": "641bb05e",
   "metadata": {},
   "outputs": [],
   "source": [
    "search()---> will return the first matching text in the searched string.\n",
    "\n",
    "findall()--> will return the list of strings of every matching text in searched string.\n",
    "\n",
    "findall() gives the output in two different ways.\n",
    "\n",
    "1. as list of strings--> if the searched element doesnt contain any groups\n",
    "\n",
    "eg:\n",
    "import re\n",
    "mybirthdayRegex=re.compile(r'\\d\\d-\\d\\d-\\d\\d\\d\\d')\n",
    "mybirthdayRegex.findall('birthday:08-12-2021,today:16-03-2022')\n",
    "\n",
    "#output:list of strings\n",
    "['08-12-2021', '16-03-2022']\n",
    "\n",
    "\n",
    "2.o/p as list of tuples---> if the searches element contains groups in it.\n",
    "\n",
    "eg:\n",
    "import re\n",
    "mybirthdayRegex=re.compile(r'(\\d\\d)-(\\d\\d)-(\\d\\d\\d\\d)')\n",
    "mybirthdayRegex.findall('birthday:08-12-2021,today:16-03-2022')\n",
    "\n",
    "#output:list of tuples\n",
    "[('08', '12', '2021'), ('16', '03', '2022')]\n"
   ]
  },
  {
   "cell_type": "markdown",
   "id": "42fb4d86",
   "metadata": {},
   "source": [
    "# 8. In standard expressions, what does the | character mean?"
   ]
  },
  {
   "cell_type": "code",
   "execution_count": null,
   "id": "d64b7354",
   "metadata": {},
   "outputs": [],
   "source": [
    "| character is called a pipe.\n",
    "\n",
    "It is a special character used whenever we want to match one of many expressions.\n",
    "Generally the first occurence of matching text will be returned as the match object.\n",
    "\n",
    "\n",
    "\n",
    "import re\n",
    "cricketer=re.compile(r'sachin|messi')\n",
    "mo1=cricketer.search('sachin and messi.')\n",
    "mo1.group()\n",
    "\n",
    "#output\n",
    "sachin\n",
    "\n",
    "pipe is also used to match one of several patterns as part of the regex.\n",
    "\n",
    "\n",
    "import re\n",
    "cricketer=re.compile(r'sachin(Tendulkar|rohit|virat|Dhoni)')\n",
    "mo1=cricketer.search('sachinTendulkar is the best batsman.')\n",
    "mo1.group()\n",
    "\n",
    "#output:\n",
    "'sachinTendulkar'"
   ]
  },
  {
   "cell_type": "markdown",
   "id": "b8992a07",
   "metadata": {},
   "source": [
    "#    9. In regular expressions, what does the character stand for?"
   ]
  },
  {
   "cell_type": "code",
   "execution_count": null,
   "id": "e39a22f5",
   "metadata": {},
   "outputs": [],
   "source": [
    "In order to shorten the regular expression(regex).Every character has specific notation in regex.\n",
    "\n",
    "as discussed earlier in pipe operation. to write number from 1 to 9 1|2|3|4|5|6|7|8|9 \n",
    "it can be written as \\d which indicates numeric digits from 0 to 9.\n",
    "\n",
    "similarly we have \\D,\\w,\\W,\\s(space),\\S(any character that is not a space,tab or new line).\n",
    "\n",
    "Regular expressions allow you to specify the precise patterns of characters .Helps in cuting down\n",
    "the tedious work & simplify the code by using characters."
   ]
  },
  {
   "cell_type": "markdown",
   "id": "b04cb99e",
   "metadata": {},
   "source": [
    "# 10.In regular expressions, what is the difference between the + and * characters?"
   ]
  },
  {
   "cell_type": "code",
   "execution_count": null,
   "id": "fdcaa7d9",
   "metadata": {},
   "outputs": [],
   "source": [
    "+(plus) regex will match one or more in a given text\n",
    "\n",
    "\n",
    "* (star) regex will match zero or more in a given text.\n",
    "the group that precedes the star can occur any number of times in a given text.\n",
    "It can be completely absent or repeated over and over again"
   ]
  },
  {
   "cell_type": "markdown",
   "id": "ce9d1984",
   "metadata": {},
   "source": [
    "# 11. What is the difference between {4} and {4,5} in regular expression?"
   ]
  },
  {
   "cell_type": "code",
   "execution_count": null,
   "id": "f2a092a7",
   "metadata": {},
   "outputs": [],
   "source": [
    "In the regex if you have a group and repeat it specific times.Then we can use th above expression\n",
    "in the regex operations\n",
    "for example:\n",
    "    \n",
    "import re\n",
    "bellRegex=re.compile(r'(Tik){4}')\n",
    "mo1=bellRegex.search('TikTikTikTikTikTikTikTikTikTikTikTikTikTikTikTik')\n",
    "mo1.group()\n",
    "\n",
    "output:\n",
    "'TikTikTikTik'\n",
    "in the first ouptut it repeats only 4times from the given lengthy text.\n",
    "\n",
    "\n",
    "The second case of {4,5} can be explained by below :\n",
    "    \n",
    "bellRegex=re.compile(r'(Tik){4,5}')\n",
    "mo1=bellRegex.search('TikTikTikTikTikTikTikTikTikTik')\n",
    "mo1.group()\n",
    "\n",
    "output:\n",
    "'TikTikTikTikTik'\n",
    "\n",
    "Instead of one number, you can specify a range by writing a minimum, \n",
    "a comma,then the maximum number of times it can repeat\n"
   ]
  },
  {
   "cell_type": "markdown",
   "id": "5cec8e0d",
   "metadata": {},
   "source": [
    "# 12. What do you mean by the \\d, \\w, and \\s shorthand character classes signify in regular expressions?"
   ]
  },
  {
   "cell_type": "code",
   "execution_count": null,
   "id": "7408c09a",
   "metadata": {},
   "outputs": [],
   "source": [
    "these are the shorthand codes for the character classes.\n",
    "\\d-->signifies any numeric digit from 0 to 9.\n",
    "\\w-->signifies any letter,numeric digit & the underscore character\n",
    "\\s-->signifies space,tab or newline character.\n",
    "\n",
    "eg:\n",
    "cricket_kit = re.compile(r'\\d+\\s\\w+')\n",
    "cricket_kit.findall('13 bats,2 helments,4 gloves,6 stumps,4 bails,3 guards,9 balls')\n",
    "\n",
    "output:\n",
    "['13 bats',\n",
    " '2 helments',\n",
    " '4 gloves',\n",
    " '6 stumps',\n",
    " '4 bails',\n",
    " '3 guards',\n",
    " '9 balls']\n",
    "\n",
    "if only \\d and \\w is used in compile only the last numeric & the first letter will be displaced.\n",
    "so we use \\d+ and \\w+"
   ]
  },
  {
   "cell_type": "markdown",
   "id": "da517aaa",
   "metadata": {},
   "source": [
    "# 13. What do means by \\D, \\W, and \\S shorthand character classes signify in regular expressions?"
   ]
  },
  {
   "cell_type": "code",
   "execution_count": null,
   "id": "768ac5a3",
   "metadata": {},
   "outputs": [],
   "source": [
    "\\D-->any character that is not a numeric digit from 0-9\n",
    "\\W-->Any character that is not a letter, numeric digit, or the \n",
    "underscore character\n",
    "\\S-->Any character that is not a space, tab, or newline.\n",
    "\n",
    "\n",
    "example:\n",
    "cricket_kit = re.compile(r'\\D+\\S\\W+')\n",
    "cricket_kit.findall('13 bats,2 helments,4 gloves,6 stumps,4 bails,3 guards,9 balls')\n",
    "\n",
    "output:\n",
    "[' bats,2 ', 'helments,4 ', 'gloves,6 ', 'stumps,4 ', 'bails,3 ', 'guards,9 ']\n",
    "\n",
    "\\D ignores the numeric so in output 13 is not shown & space is ignored.\n",
    "later \\W since doesnt take any letters it takes comma as character.\n",
    "\n",
    "there is difference in output in question 12 & 13\n"
   ]
  },
  {
   "cell_type": "markdown",
   "id": "1a9f7ced",
   "metadata": {},
   "source": [
    "# 14. What is the difference between .*? and .*?"
   ]
  },
  {
   "cell_type": "code",
   "execution_count": null,
   "id": "79a526f2",
   "metadata": {},
   "outputs": [],
   "source": [
    "# 14. What is the difference between .*? and .*?"
   ]
  },
  {
   "cell_type": "code",
   "execution_count": null,
   "id": "ddb875b2",
   "metadata": {},
   "outputs": [],
   "source": [
    ".*-->dot star stands for \"anything\" i.e if we want to match everything & anything in a\n",
    "given string we use .*\n",
    "\n",
    ".(dot character is used to match only one character before it.\n",
    "  \n",
    "It matches the longest possible matching string in text.\n",
    "\n",
    "eg for .*:\n",
    "#the output will be given as greedy mode\n",
    "\n",
    "import re\n",
    "cricketer=re.compile(r'(.*) (.*)')\n",
    "mo1=cricketer.search('<There is a tower> <of Airtel near > my house')\n",
    "mo1.group()\n",
    "  \n",
    "ouptut:\n",
    "'<There is a tower> <of Airtel near > my house'\n",
    "\n",
    ".*?-->in order to get output in non-greedy way we use the following.\n",
    "it gives the shortest string in the text.\n",
    "\n",
    "import re\n",
    "cricketer=re.compile(r'<(.*?)> <(.*?)>')\n",
    "mo1=cricketer.search('<There is a tower> <of Airtel near > my house')\n",
    "mo1.group()\n",
    "\n",
    "output:\n",
    "'<There is a tower> <of Airtel near >'\n",
    "  \n",
    "\n"
   ]
  },
  {
   "cell_type": "markdown",
   "id": "2efd93b1",
   "metadata": {},
   "source": [
    "# 15. What is the syntax for matching both numbers and lowercase letters with a character class?"
   ]
  },
  {
   "cell_type": "code",
   "execution_count": null,
   "id": "a0b63fd7",
   "metadata": {},
   "outputs": [],
   "source": [
    "#syntax :'^[a-z0-9]*$'\n",
    "\n",
    "import re\n",
    "def text_match(text):\n",
    "        patterns = '^[a-z0-9]*$'\n",
    "        if re.search(patterns,  text):\n",
    "                return 'Found a match!'\n",
    "        else:\n",
    "                return('Not matched!')\n",
    "\n",
    "print(text_match(\"hyderabad500001\"))\n",
    "print(text_match(\"python_Exercises_1\"))\n",
    "\n",
    "output:\n",
    "Found a match!\n",
    "Not matched!"
   ]
  },
  {
   "cell_type": "markdown",
   "id": "f10dc834",
   "metadata": {},
   "source": [
    "\n",
    "# 16. What is the procedure for making a normal expression in regax case insensitive?"
   ]
  },
  {
   "cell_type": "code",
   "execution_count": null,
   "id": "17b092ea",
   "metadata": {},
   "outputs": [],
   "source": [
    "in regular expression to make it case insensitive .We need to use re.compile along \n",
    "with re.IGNORECASE\n",
    "\n",
    "someRegexValue = re.compile('NivA', re.IGNORECASE)\n",
    "mo1=someRegexValue.search('NivaMax General Insurance')\n",
    "mo1.group()\n",
    "\n",
    "output:\n",
    "'Niva'"
   ]
  },
  {
   "cell_type": "markdown",
   "id": "121fc0e4",
   "metadata": {},
   "source": [
    "# 17. What does the . character normally match? What does it match if re.DOTALL is passed as 2nd argument in re.compile()?"
   ]
  },
  {
   "cell_type": "code",
   "execution_count": null,
   "id": "233762be",
   "metadata": {},
   "outputs": [],
   "source": [
    ".-->(dot) character will normally match.\n",
    "match any character except for a newline.\n",
    "\n",
    "rainRegex = re.compile(r'.in')\n",
    "rainRegex.findall('It started raining in india & that is some good news for farming in my locality indur.')\n",
    "\n",
    "output:\n",
    "['ain', ' in', ' in', 'min', ' in', ' in']\n",
    "\n",
    "re.DOTALL()\n",
    "\n",
    "in order to include newlines to match the dot ccharacte we will use re.DOTALL\n",
    "along with re.compile."
   ]
  },
  {
   "cell_type": "markdown",
   "id": "bc1b783a",
   "metadata": {},
   "source": [
    "# 18. If numReg = re.compile(r'\\d+'), what will numRegex.sub('X', '11 drummers, 10 pipers, five rings, 4 hen') return?"
   ]
  },
  {
   "cell_type": "code",
   "execution_count": null,
   "id": "42e5b1b8",
   "metadata": {},
   "outputs": [],
   "source": [
    "input:\n",
    "numRegex = re.compile(r'\\d+')\n",
    "numRegex.sub('X', '11 drummers, 10 pipers, five rings, 4 hen')\n",
    "\n",
    "output:\n",
    "'X drummers, X pipers, five rings, X hen'"
   ]
  },
  {
   "cell_type": "markdown",
   "id": "d0b52754",
   "metadata": {},
   "source": [
    "# 19. What does passing re.VERBOSE as the 2nd argument to re.compile() allow to do?"
   ]
  },
  {
   "cell_type": "code",
   "execution_count": null,
   "id": "3efea859",
   "metadata": {},
   "outputs": [],
   "source": [
    "VERBOSE can be enabled by passing the variable re.VERBOSE as \n",
    "the second argument to re.compile().\n",
    "it can be used to ignore whitespace and comments inside regular expression\n",
    "along with re.compile()\n",
    "-->the complicated pattern of the code can be changed and presented in readable form.\n",
    "\n",
    "import re\n",
    "mybirthdayRegex=re.compile(r'''(\\d\\d-\n",
    "\\d\\d-\n",
    "\\d\\d\\d\\d)''',re.VERBOSE)\n",
    "mybirthdayRegex.findall('birthday:08-12-2021,today:16-03-2022')\n",
    "\n",
    "output:\n",
    "['08-12-2021', '16-03-2022']"
   ]
  },
  {
   "cell_type": "markdown",
   "id": "14a1cb3b",
   "metadata": {},
   "source": [
    "# 20. How would you write a regex that match a number with comma for every three digits? It must match the given following:"
   ]
  },
  {
   "cell_type": "code",
   "execution_count": null,
   "id": "356a3b30",
   "metadata": {},
   "outputs": [],
   "source": [
    "input:42\n",
    "    \n",
    "import re\n",
    "\n",
    "check_numRegex=re.compile(r\"^\\d{1,}(,\\d{3,})(,\\d{3})*$\")\n",
    "\n",
    "check_numRegex.findall('42')\n",
    "\n",
    "ouput:[]\n",
    "--------------------------------------   \n",
    "input:'1,234'\n",
    "import re\n",
    "\n",
    "check_numRegex=re.compile(r\"^\\d{1,}(,\\d{3,})(,\\d{3})*$\")\n",
    "\n",
    "check_numRegex.findall('1,234')\n",
    "\n",
    "ouput:[(',234', '')]\n",
    "    \n",
    "--------------------------------------\n",
    "input:input:'6,368,745'\n",
    "import re\n",
    "\n",
    "check_numRegex=re.compile(r\"^\\d{1,}(,\\d{3,})(,\\d{3})*$\")\n",
    "\n",
    "check_numRegex.findall('6,368,745')\n",
    "\n",
    "ouput:[(',368', ',745')]\n",
    "    \n",
    "-----------------------------------------\n",
    "\n",
    "import re\n",
    "\n",
    "check_numRegex=re.compile(r\"^\\d{1,}(,\\d{3,})(,\\d{3})*$\")\n",
    "\n",
    "check_numRegex.findall('12,34,567' )\n",
    "\n",
    "output:[]\n",
    "    \n",
    "---------------------------------------\n",
    "import re\n",
    "\n",
    "check_numRegex=re.compile(r\"^\\d{1,}(,\\d{3,})(,\\d{3})*$\")\n",
    "\n",
    "check_numRegex.findall('1234')\n",
    "\n",
    "ouput:[]"
   ]
  },
  {
   "cell_type": "markdown",
   "id": "a5a8bf4a",
   "metadata": {},
   "source": [
    "# 21. How would you write a regex that matches the full name of someone whose last name is Watanabe? You can assume that the first name that comes before it will always be one word that begins with a capital letter. The regex must match the following:"
   ]
  },
  {
   "cell_type": "code",
   "execution_count": null,
   "id": "468207cc",
   "metadata": {},
   "outputs": [],
   "source": [
    "import re    #import regular expressions\n",
    "\n",
    "#regular expression\n",
    "NameSearch = re.compile(r'(Haruto|Alice|RoboCop)\\sWatanbe')\n",
    "\n",
    "# perform search on string\n",
    "Result = NameSearch.search(\"Haruto Watanbe\") # can be any starting letter as per the question\n",
    "\n",
    "if Result != None:\n",
    "    print (Result.group())\n",
    "\n",
    "print (Result == None)\n",
    "\n",
    "ouput:\n",
    "Haruto Watanbe\n",
    "False"
   ]
  },
  {
   "cell_type": "markdown",
   "id": "6c9a4f03",
   "metadata": {},
   "source": [
    "# 22. How would you write a regex that matches a sentence where the first word is either Alice, Bob, or Carol; the second word is either eats, pets, or throws; the third word is apples, cats, or baseballs; and the sentence ends with a period? This regex should be case-insensitive. It must match the following:"
   ]
  },
  {
   "cell_type": "code",
   "execution_count": null,
   "id": "c4fbf0d7",
   "metadata": {},
   "outputs": [],
   "source": [
    "\n",
    "    a='Alice eats apples.'\n",
    "    b='Bob pets cats.'\n",
    "    c='Carol throws baseballs.'\n",
    "    d='Alice throws Apples.'\n",
    "    e='BOB EATS CATS.'\n",
    "    f='RoboCop eats apples.'\n",
    "    g='ALICE THROWS FOOTBALLS.'\n",
    "    h='Carol eats 7 cats.'\n",
    "\n",
    "\n",
    "sentenceMatch= re.compile(r'''\n",
    "(Alice|Bob|Carol)        # The names\n",
    "\\s                            # space\n",
    "(eats|pets|throws)      # verds\n",
    "\\s                            # space\n",
    "(apples|cats|baseballs) # nouns\n",
    "\\.                            # period\n",
    "''', re.VERBOSE|re.I)\n",
    "\n",
    "\n",
    "\n",
    "sentenceMatch.findall(a)\n",
    "\n",
    "output:[('Alice', 'eats', 'apples')]\n",
    "\n",
    "sentenceMatch.findall(h)\n",
    "\n",
    "output:[]"
   ]
  }
 ],
 "metadata": {
  "kernelspec": {
   "display_name": "Python 3",
   "language": "python",
   "name": "python3"
  },
  "language_info": {
   "codemirror_mode": {
    "name": "ipython",
    "version": 3
   },
   "file_extension": ".py",
   "mimetype": "text/x-python",
   "name": "python",
   "nbconvert_exporter": "python",
   "pygments_lexer": "ipython3",
   "version": "3.8.8"
  }
 },
 "nbformat": 4,
 "nbformat_minor": 5
}
