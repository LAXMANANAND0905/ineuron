{
 "cells": [
  {
   "cell_type": "code",
   "execution_count": 1,
   "id": "62b3e872",
   "metadata": {},
   "outputs": [],
   "source": [
    "#1-->. In the below elements which of them are values or an expression? eg:- values can be\n",
    "#integer or string and expressions will be mathematical operators.\n",
    "\n",
    "Expressions:*(multiplication),-(substraction,/(division,+(add)\n",
    "Values:'hello'(string),-87.8(float),6(integer)                                         "
   ]
  },
  {
   "cell_type": "code",
   "execution_count": 2,
   "id": "09d7da9f",
   "metadata": {},
   "outputs": [
    {
     "ename": "SyntaxError",
     "evalue": "invalid syntax (<ipython-input-2-ebf8e8201f87>, line 3)",
     "output_type": "error",
     "traceback": [
      "\u001b[1;36m  File \u001b[1;32m\"<ipython-input-2-ebf8e8201f87>\"\u001b[1;36m, line \u001b[1;32m3\u001b[0m\n\u001b[1;33m    String is a sequence of characters or a single character which is represented as str.\u001b[0m\n\u001b[1;37m                ^\u001b[0m\n\u001b[1;31mSyntaxError\u001b[0m\u001b[1;31m:\u001b[0m invalid syntax\n"
     ]
    }
   ],
   "source": [
    "#2-->what is the difference between string and variable?\n",
    "\n",
    "String is a sequence of characters or a single character eg:'a' ,\"anand\".\n",
    "variable is a name given to memory location.Can have a shortname or a descriptive name.eg:a,b,z etc.\n",
    "\n",
    "\n",
    "#3-->Describe three different data types?\n",
    "\n",
    "a)Datatypes helps in categorizing data items,tells us what operations need to be performed on particular data and\n",
    "has specific properties.\n",
    "\n",
    "1.Numeric Datatype: indicating the numeric values.and has following types.\n",
    "        Type------- Description------------example------representation\n",
    "    a)integer    (without decimals)     3,3300,3500      int\n",
    "    b)Complex    real+imaginary parts     2+3j           compex\n",
    "    c)Float     no.with decimal point  3.0,35.00,33.3     float\n",
    "    \n",
    "2.Dictionary Datatype: Collection of keys and values pairs.Keys are memory locations where values are stored.\n",
    "    \n",
    "    representation:dictionary ={\"key1\":\"value\",\"key2\":\"value2\"}\n",
    "    \n",
    "    eg:d={\"key1\":\"sigma\",\"key2\":\"alpha\"}-->sigma & alpha are stored in key1 & key2 respectively.\n",
    "        \n",
    "3.sequence Type:\n",
    "        Type------- Description------------example------representation\n",
    "    a)strings    ordered sequence of      \"python\",\"k\"      str\n",
    "                characters in \"\" or ''\n",
    "    \n",
    "    b)List      ordered sequence of       [10,20,30]       list\n",
    "                   objects in []can\n",
    "                  be changed\n",
    "        \n",
    "    c)TUPLES    ordered sequence of\n",
    "                objects which cannot     (10,20,30)        tuple\n",
    "                be changed in()\n",
    "            \n",
    "\n",
    "#4.What is an expression made up of?what do all expressions do?\n",
    "\n",
    "a)also called as mathematical operatiors\n",
    "b)in order to calculate,evaluate,compare any mathematical,logical & arithmetic operations it is used.\n",
    "   Type------- Description--------------representation\n",
    "1) arithmetic  basic math operations       +,-,*,/,% etc\n",
    "\n",
    "2)relational   relation between two        <,>,<=,>=,==\n",
    "                or more variables\n",
    "                gives true or false\n",
    "\n",
    "3)assignment   assign a value to rh         +=,-=,*=\n",
    "                side using lh side\n",
    "    \n",
    "4)logical      for giving a logical         and or not\n",
    "                conclusion\n",
    "\n",
    "5)identity      it givestrue or false .    is,is not\n",
    "                 to identify\n",
    "                location of value\n",
    "\n",
    "\n",
    "                \n"
   ]
  },
  {
   "cell_type": "code",
   "execution_count": null,
   "id": "d4fa5ff6",
   "metadata": {},
   "outputs": [],
   "source": [
    "#5-->This assignment statements,like spam=10.What is the difference between an expression and a statement.\n",
    "\n",
    "Expressions are representation of  values,variables,operations & these need to be evaluated.\n",
    "In above example 10 is a value & = is operand ( rh side of operand'=') \n",
    "    \n",
    "    the assignment statements are used to assign objects,values,characters to variables.given by\n",
    "    lh side of operand(spam) completes the statement along with rh side(=10)\n",
    "Expression doesnt have major use if not used in as a statement.\n",
    "\n",
    "\n",
    "        \n",
    "\n",
    "\n",
    "        "
   ]
  },
  {
   "cell_type": "code",
   "execution_count": 3,
   "id": "9a1e3b1a",
   "metadata": {},
   "outputs": [
    {
     "data": {
      "text/plain": [
       "23"
      ]
     },
     "execution_count": 3,
     "metadata": {},
     "output_type": "execute_result"
    }
   ],
   "source": [
    "#6. After running the following code, what does the variable bacon contain?\n",
    "bacon = 22\n",
    "bacon + 1\n",
    "\n",
    "-->output of the above code will be 23.But the variable bacon contains the initial assignment of 22"
   ]
  },
  {
   "cell_type": "code",
   "execution_count": 6,
   "id": "af0580c4",
   "metadata": {},
   "outputs": [],
   "source": [
    "#7What should the values of the following two terms be?\n",
    "#a)'spam' + 'spamspam'\n",
    "#b)'spam' * 3\n",
    "\n"
   ]
  },
  {
   "cell_type": "code",
   "execution_count": 9,
   "id": "2da7a775",
   "metadata": {},
   "outputs": [
    {
     "name": "stdout",
     "output_type": "stream",
     "text": [
      "spamspamspam\n",
      "spamspamspam\n"
     ]
    }
   ],
   "source": [
    "print('spam'+'spamspam')\n",
    "print('spam'*3)\n",
    "# string concatination(using operand +) is done in first example\n",
    "#string duplication or multiplication is done in 2nd using * operand"
   ]
  },
  {
   "cell_type": "code",
   "execution_count": 10,
   "id": "7be40142",
   "metadata": {},
   "outputs": [],
   "source": [
    "#8 Why is eggs a valid variable name while 100 is invalid?\n",
    "\n",
    "eggs=100"
   ]
  },
  {
   "cell_type": "code",
   "execution_count": 14,
   "id": "6d39b8b3",
   "metadata": {},
   "outputs": [],
   "source": [
    "#rules for python variable:\n",
    "1.should start with letter or __\n",
    "2.cannot start with number.\n",
    "3.can have alpha-numeric characters & underscore\n",
    "4.case sensitive\n",
    "5.shouldnt match with keywords.\n",
    "100=eggs invalid\n",
    "_100=eggs--valid"
   ]
  },
  {
   "cell_type": "code",
   "execution_count": null,
   "id": "55018898",
   "metadata": {},
   "outputs": [],
   "source": [
    "#9 What three functions can be used to get the integer, floating-point number, or string version of a value\n",
    "\n",
    "integer----------------->int()\n",
    "floating-point number--->float()\n",
    "string------------------>str()"
   ]
  },
  {
   "cell_type": "code",
   "execution_count": null,
   "id": "51fc3cf5",
   "metadata": {},
   "outputs": [],
   "source": [
    "# Why does this expression cause an error? How can you fix it?\n",
    "'I have eaten ' + 99 + ' burritos.'\n",
    "\n",
    "The above expression is trying to concatinate string with integer which is not possible in python.\n",
    "\n",
    "converting the integer 99 into string by using ' ' "
   ]
  },
  {
   "cell_type": "code",
   "execution_count": 15,
   "id": "eee546f1",
   "metadata": {},
   "outputs": [
    {
     "ename": "TypeError",
     "evalue": "can only concatenate str (not \"int\") to str",
     "output_type": "error",
     "traceback": [
      "\u001b[1;31m---------------------------------------------------------------------------\u001b[0m",
      "\u001b[1;31mTypeError\u001b[0m                                 Traceback (most recent call last)",
      "\u001b[1;32m<ipython-input-15-d24137131a5c>\u001b[0m in \u001b[0;36m<module>\u001b[1;34m\u001b[0m\n\u001b[1;32m----> 1\u001b[1;33m \u001b[1;34m'I have eaten '\u001b[0m \u001b[1;33m+\u001b[0m \u001b[1;36m99\u001b[0m \u001b[1;33m+\u001b[0m \u001b[1;34m' burritos.'\u001b[0m\u001b[1;33m\u001b[0m\u001b[1;33m\u001b[0m\u001b[0m\n\u001b[0m",
      "\u001b[1;31mTypeError\u001b[0m: can only concatenate str (not \"int\") to str"
     ]
    }
   ],
   "source": [
    "'I have eaten ' + 99 + ' burritos.'"
   ]
  },
  {
   "cell_type": "code",
   "execution_count": 16,
   "id": "7272b430",
   "metadata": {},
   "outputs": [
    {
     "data": {
      "text/plain": [
       "'I have eaten 99 burritos.'"
      ]
     },
     "execution_count": 16,
     "metadata": {},
     "output_type": "execute_result"
    }
   ],
   "source": [
    "'I have eaten ' + '99' + ' burritos.'"
   ]
  },
  {
   "cell_type": "code",
   "execution_count": null,
   "id": "316e4571",
   "metadata": {},
   "outputs": [],
   "source": []
  }
 ],
 "metadata": {
  "kernelspec": {
   "display_name": "Python 3",
   "language": "python",
   "name": "python3"
  },
  "language_info": {
   "codemirror_mode": {
    "name": "ipython",
    "version": 3
   },
   "file_extension": ".py",
   "mimetype": "text/x-python",
   "name": "python",
   "nbconvert_exporter": "python",
   "pygments_lexer": "ipython3",
   "version": "3.8.8"
  }
 },
 "nbformat": 4,
 "nbformat_minor": 5
}
