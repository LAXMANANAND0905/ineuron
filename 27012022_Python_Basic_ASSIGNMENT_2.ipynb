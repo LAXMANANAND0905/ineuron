{
 "cells": [
  {
   "cell_type": "code",
   "execution_count": null,
   "id": "cecbd755",
   "metadata": {},
   "outputs": [],
   "source": [
    "#1.What are the two values of the Boolean data type? How do you write them?\n",
    "\n",
    "a)Boolean data types are used to convey whether a statement is True or False\n",
    "b)True & False are its values.\n",
    "c)controls the flow of the statements & its logics\n",
    "d)to check datatype is boolean or not use type(True) or type(False)--->bool\n",
    "e) these values are are returned in some sort of comparisons\n",
    "  a,b=5,6     \n",
    "    a>b\n",
    "--->False\n"
   ]
  },
  {
   "cell_type": "code",
   "execution_count": 13,
   "id": "246bfef4",
   "metadata": {},
   "outputs": [],
   "source": [
    "#2 2. What are the three different types of Boolean operators?\n",
    "\n",
    "-->The basic boolean operators are AND,OR,NOT\n",
    "-->evaluates the expression to boolean values i.e True or False\n",
    "-->used in logical operations along with iterative statements\n",
    "-->if True execute,False stop\n",
    "\n"
   ]
  },
  {
   "cell_type": "code",
   "execution_count": null,
   "id": "9ca02b76",
   "metadata": {},
   "outputs": [],
   "source": [
    "#3. Make a list of each Boolean operator's truth tables (i.e. every possible combination of Boolean values\n",
    "#   for the operator and what it evaluate ).\n",
    "\n",
    "----operator    statement meanings                BOOLEAN VALUE\n",
    "                  (1-T,0-F)\n",
    "      AND         if both  True                        True\n",
    "    \n",
    "      OR        atleast one  True                      True\n",
    "        \n",
    "      NOT         only 0 and 0                         True\n",
    "    \n",
    "                 if F and T,T and F,                   False\n",
    "                     T and T                           False"
   ]
  },
  {
   "cell_type": "code",
   "execution_count": 2,
   "id": "653c76bc",
   "metadata": {},
   "outputs": [
    {
     "name": "stdout",
     "output_type": "stream",
     "text": [
      "False\n"
     ]
    }
   ],
   "source": [
    " #4 What are the values of the following expressions?\n",
    "\n",
    "print((5>4) and (3==5))\n"
   ]
  },
  {
   "cell_type": "code",
   "execution_count": 3,
   "id": "f9ee1c74",
   "metadata": {},
   "outputs": [
    {
     "name": "stdout",
     "output_type": "stream",
     "text": [
      "False\n"
     ]
    }
   ],
   "source": [
    "print(not(5>4))\n"
   ]
  },
  {
   "cell_type": "code",
   "execution_count": 4,
   "id": "595c91c4",
   "metadata": {},
   "outputs": [
    {
     "name": "stdout",
     "output_type": "stream",
     "text": [
      "False\n"
     ]
    }
   ],
   "source": [
    "print(not((5>4)or(3==5)))"
   ]
  },
  {
   "cell_type": "code",
   "execution_count": 5,
   "id": "18558d09",
   "metadata": {},
   "outputs": [
    {
     "name": "stdout",
     "output_type": "stream",
     "text": [
      "False\n"
     ]
    }
   ],
   "source": [
    "print((True and True) and (True == False))"
   ]
  },
  {
   "cell_type": "code",
   "execution_count": 6,
   "id": "3e1ed836",
   "metadata": {},
   "outputs": [
    {
     "name": "stdout",
     "output_type": "stream",
     "text": [
      "True\n"
     ]
    }
   ],
   "source": [
    "print((not False) or(not True))"
   ]
  },
  {
   "cell_type": "code",
   "execution_count": null,
   "id": "8a24aa81",
   "metadata": {},
   "outputs": [],
   "source": [
    "#5 What are the six comparison operators?\n",
    "\n"
   ]
  },
  {
   "cell_type": "code",
   "execution_count": 7,
   "id": "6eaeda0d",
   "metadata": {},
   "outputs": [],
   "source": [
    "#6 How do you tell the difference between the equal to and assignment operators?Describe a condition and\n",
    "#  when you would use one.\n",
    "\n",
    ">>>Equal to operator, notation '==' is used to  check the lh side of operands is equal to rh side of operand.\n",
    "and used for comparing two values\n",
    "it returns a boolean result True or False based on the condition.\n",
    "a=5\n",
    "b=6\n",
    "if a==b:\n",
    "    print(\"both are equal\")\n",
    "else:\n",
    "    print(\"a is not equal to b\")\n",
    " \n",
    ">>Assignment operator, notation '=' is used to assigning value to variables.\n",
    "  eg: gayle   =     333.\n",
    "    (variable)    (value)\n",
    "        position of variable(lh) & value(rh) remains the same.\n",
    "        lh cannot have constant term. eg 333=gayle is not correct\n",
    "        \n"
   ]
  },
  {
   "cell_type": "code",
   "execution_count": 8,
   "id": "f1cdbf7c",
   "metadata": {},
   "outputs": [
    {
     "name": "stdout",
     "output_type": "stream",
     "text": [
      "ham\n",
      "spam\n",
      "spam\n"
     ]
    }
   ],
   "source": [
    "#7 identify the three blocks in this code.\n",
    "#spam = 0\n",
    "#if spam == 10:\n",
    "#print('eggs')\n",
    "#if spam > 5:\n",
    "#print('bacon')\n",
    "#else:\n",
    "#print('ham')\n",
    "#print('spam')\n",
    "#print('spam')\n",
    " \n",
    "spam = 0        #variable assignment\n",
    "if spam == 10:   # if block\n",
    "    print('eggs')\n",
    "if spam > 5:     # if block\n",
    "    print('bacon')\n",
    "else:            # else block\n",
    "    print('ham')\n",
    "    print('spam')\n",
    "    print('spam')"
   ]
  },
  {
   "cell_type": "code",
   "execution_count": 10,
   "id": "1a650bb5",
   "metadata": {},
   "outputs": [],
   "source": [
    " #7th--->there are two if blocks & 1 else block in the given code"
   ]
  },
  {
   "cell_type": "code",
   "execution_count": null,
   "id": "a019fc3b",
   "metadata": {},
   "outputs": [],
   "source": [
    "#8 Write code that prints Hello if 1 is stored in spam, prints Howdy if 2 is stored in spam, \n",
    "#  and prints Greetings! if anything else is stored in spam\n",
    "\n",
    "spam=int(input(\"Enter the number: \"))\n",
    "\n",
    "if spam==1:\n",
    "    print(\"Hello\")\n",
    "if spam==2:\n",
    "    print(\"Howdy\")\n",
    "elif spam!=1 and spam!=2:\n",
    "    print(\"Greetings!\")\n",
    "\n",
    "\n",
    "\n"
   ]
  },
  {
   "cell_type": "markdown",
   "id": "7c16a35f",
   "metadata": {},
   "source": [
    "# 9 If your programme is stuck in an endless loop, what keys you’ll press?"
   ]
  },
  {
   "cell_type": "code",
   "execution_count": null,
   "id": "77ae941b",
   "metadata": {},
   "outputs": [],
   "source": [
    "Generally programme gets stuck in an endless loop during incorrect code in while loop. \n",
    "\n",
    "It can be terminated by restarting the kernel in notebook. or \n",
    "\n",
    "keys I,I (double press of I) can be used to interrupt the kernel & O,O can be used to restart the kernel.\n",
    "\n",
    "& also break statements is used in while loop to break after the condition is met."
   ]
  },
  {
   "cell_type": "markdown",
   "id": "8cb55d69",
   "metadata": {},
   "source": [
    "# 10 . How can you tell the difference between break and continue?"
   ]
  },
  {
   "cell_type": "code",
   "execution_count": null,
   "id": "177d7010",
   "metadata": {},
   "outputs": [],
   "source": [
    "-->break statement  exit the for loop or while loop straightaway once break statement turns up.\n",
    "   & It moves out of the loop & pointer points at next loop in the program\n",
    "\n",
    "-->continue statement is used to skip certain iterations of the program & move to the start of the loop.\n",
    "   It continues till all the iterations are completed"
   ]
  },
  {
   "cell_type": "code",
   "execution_count": 4,
   "id": "6551231b",
   "metadata": {},
   "outputs": [
    {
     "name": "stdout",
     "output_type": "stream",
     "text": [
      "1\n",
      "2\n",
      "3\n"
     ]
    }
   ],
   "source": [
    "#break statement\n",
    "lst_num=[1,2,3,4]\n",
    "count=0\n",
    "for i in lst_num:\n",
    "    count=count+1\n",
    "    print(count)\n",
    "    if i==3:\n",
    "        break"
   ]
  },
  {
   "cell_type": "code",
   "execution_count": 6,
   "id": "0aee2b59",
   "metadata": {},
   "outputs": [
    {
     "name": "stdout",
     "output_type": "stream",
     "text": [
      "0\n",
      "1\n",
      "3\n"
     ]
    }
   ],
   "source": [
    "#continue statement\n",
    "for x in range(4):\n",
    "    if x==2:\n",
    "        continue\n",
    "    print(x)"
   ]
  },
  {
   "cell_type": "markdown",
   "id": "41d5a58f",
   "metadata": {},
   "source": [
    "# 11.In a for loop, what is the difference between range(10), range(0, 10), and range(0, 10, 1)?\n"
   ]
  },
  {
   "cell_type": "code",
   "execution_count": null,
   "id": "470ef8a1",
   "metadata": {},
   "outputs": [],
   "source": [
    "range is an inbuilt function in python. There are 3 ways of calling a range function\n",
    "\n",
    "1.range(stop)-->starts from zero & ends at one less than number at stop.\n",
    "takes one argument only\n",
    "eg:range(4)--->0,1,2,3\n",
    "    \n",
    "2.range(start,stop)--->starts from start number & ends at one less than number at stop.\n",
    "takes two arguments.\n",
    "eg:range(1,4)-->1,2,3\n",
    "    \n",
    "3.range(start,stop,step)-->starts from start number & ends at one less than number at stop.\n",
    "prints numbers at the step size mentioned in step.\n",
    "takes 3 arguments\n",
    "eg:range(1,6,2)--->1,3,5"
   ]
  },
  {
   "cell_type": "code",
   "execution_count": 7,
   "id": "2b783d3b",
   "metadata": {},
   "outputs": [
    {
     "name": "stdout",
     "output_type": "stream",
     "text": [
      "0\n",
      "1\n",
      "2\n",
      "3\n"
     ]
    }
   ],
   "source": [
    "#eg: using for loop\n",
    "\n",
    "for i in range(4):\n",
    "    print(i)"
   ]
  },
  {
   "cell_type": "code",
   "execution_count": 8,
   "id": "9c290ea0",
   "metadata": {},
   "outputs": [
    {
     "name": "stdout",
     "output_type": "stream",
     "text": [
      "1\n",
      "2\n",
      "3\n",
      "4\n"
     ]
    }
   ],
   "source": [
    "for i in range(1,5):\n",
    "    print(i)"
   ]
  },
  {
   "cell_type": "code",
   "execution_count": 9,
   "id": "8d752a4b",
   "metadata": {},
   "outputs": [
    {
     "name": "stdout",
     "output_type": "stream",
     "text": [
      "1\n",
      "3\n",
      "5\n"
     ]
    }
   ],
   "source": [
    "for i in range(1,6,2):\n",
    "    print(i)"
   ]
  },
  {
   "cell_type": "markdown",
   "id": "925c94f9",
   "metadata": {},
   "source": [
    "## 12. Write a short program that prints the numbers 1 to 10 using a for loop. Then write an equivalent program that prints the numbers 1 to 10 using a while loop."
   ]
  },
  {
   "cell_type": "code",
   "execution_count": 23,
   "id": "3ed556b5",
   "metadata": {},
   "outputs": [
    {
     "name": "stdout",
     "output_type": "stream",
     "text": [
      "[1, 2, 3, 4, 5, 6, 7, 8, 9, 10]\n"
     ]
    }
   ],
   "source": [
    "#prgm using for loop to print numbers 1 to 10\n",
    "\n",
    "lst=[]\n",
    "for i in range(1,11):\n",
    "    lst.append(i)\n",
    "    \n",
    "print(lst)\n",
    "    "
   ]
  },
  {
   "cell_type": "code",
   "execution_count": 22,
   "id": "0e0ec689",
   "metadata": {},
   "outputs": [
    {
     "name": "stdout",
     "output_type": "stream",
     "text": [
      "1\n",
      "2\n",
      "3\n",
      "4\n",
      "5\n",
      "6\n",
      "7\n",
      "8\n",
      "9\n",
      "10\n"
     ]
    }
   ],
   "source": [
    "#prgm using while loop to print numbers 1 to 10\n",
    "\n",
    "\n",
    "n=1\n",
    "while n<=10:\n",
    "    print(n)\n",
    "    n+=1\n",
    "    "
   ]
  },
  {
   "cell_type": "markdown",
   "id": "8e32af35",
   "metadata": {},
   "source": [
    "# 13. If you had a function named bacon() inside a module named spam, how would you call it after importing spam?"
   ]
  },
  {
   "cell_type": "code",
   "execution_count": null,
   "id": "8d86de1c",
   "metadata": {},
   "outputs": [],
   "source": [
    "#import spam first\n",
    "\n",
    "import spam\n",
    "\n",
    "#call a function named bacon \n",
    "\n",
    "spam.bacon()\n"
   ]
  }
 ],
 "metadata": {
  "kernelspec": {
   "display_name": "Python 3",
   "language": "python",
   "name": "python3"
  },
  "language_info": {
   "codemirror_mode": {
    "name": "ipython",
    "version": 3
   },
   "file_extension": ".py",
   "mimetype": "text/x-python",
   "name": "python",
   "nbconvert_exporter": "python",
   "pygments_lexer": "ipython3",
   "version": "3.8.8"
  }
 },
 "nbformat": 4,
 "nbformat_minor": 5
}
