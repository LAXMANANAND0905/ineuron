{
 "cells": [
  {
   "cell_type": "markdown",
   "id": "41f8a9d9",
   "metadata": {},
   "source": [
    "# # 1. Why are functions advantageous to have in your programs?\n"
   ]
  },
  {
   "cell_type": "code",
   "execution_count": null,
   "id": "27bd4863",
   "metadata": {},
   "outputs": [],
   "source": [
    "-->functions are used  in the programs to avoid repetition,concise the program & organise the program\n",
    "-->divide the program into small blocks & call them whenever necessary. it decreases the complexity of a large program\n",
    "-->it performs the logical,computational or any task within the defined blocks & can be called whenever required\n",
    "-->can be built-in or ueer-defined\n",
    "\n",
    "syntax:\n",
    "\n",
    "def function_name(arguments):\n",
    "    \"\"\"docstring\"\"\"------->it tells us what particular function/operation this block is performing\n",
    "    statements(s)\n",
    "    return expression"
   ]
  },
  {
   "cell_type": "markdown",
   "id": "c0da0679",
   "metadata": {},
   "source": [
    "## 2. When does the code in a function run: when it's specified or when it's called?\n"
   ]
  },
  {
   "cell_type": "code",
   "execution_count": null,
   "id": "12b61000",
   "metadata": {},
   "outputs": [],
   "source": [
    "Specifying the function will not run the program & will not give the output.\n",
    "After defining the function &followed by calling it in our program then the code will run.\n",
    "\n",
    "\n",
    "-->when a function is called in the program it will begin to execute the first line inside the function.\n",
    "-->it will continue to go through the code written\n",
    "-->after finishing all the instructions it will go back to where it started from.\n",
    "-->the data is computed &values are returned .\n",
    "\n",
    "When you specify the function or define it using the def keyword and followed by function name.\n",
    "adding parameters to it & followed by statements which function should execute."
   ]
  },
  {
   "cell_type": "markdown",
   "id": "66647ba2",
   "metadata": {},
   "source": [
    "# 3.What statement creates a function?\n"
   ]
  },
  {
   "cell_type": "code",
   "execution_count": null,
   "id": "f76aa5a5",
   "metadata": {},
   "outputs": [],
   "source": [
    "# --->the def keyword is the statement used in defining a function in python.\n",
    "--->specify the function for which it is used followed by ():\n",
    "--->function can be anything except the built-in keywords eg:list,tuple,dict\n",
    "--->after (): docstring should be written in \"\"\"docstring\"\"\" which explains the function.\n",
    "--->followed by statements/code.\n",
    "--->then the return(to return the result or else we can use print statement) statement at the end of the program()\n",
    "\n",
    "eg:\n",
    "def key_word(name):\n",
    "    \"\"\"prints the name of the user\"\"\"\n",
    "    print(\"hello \"+name)\n",
    "    return\n",
    "    "
   ]
  },
  {
   "cell_type": "markdown",
   "id": "82beea7f",
   "metadata": {},
   "source": [
    "# 4. What is the difference between a function and a function call?\n"
   ]
  },
  {
   "cell_type": "code",
   "execution_count": null,
   "id": "511ba648",
   "metadata": {},
   "outputs": [],
   "source": [
    "function is a block of statements used to perform specific tasks,minimize the repetitive writing of code\n",
    "    & organise the program into small blocks which can be easily understood\n",
    "    \n",
    "difference between function & function call\n",
    "\n",
    "function is created using def keyword with arguments in it which are used in program.\n",
    "        \n",
    "       function is a block of statements used in a program .it is not executed untill & unless it is called.\n",
    "        \n",
    "defining a function & calling a function is two different things.\n",
    "\n",
    "\n",
    "the function has no relevance if it is not called but it is  defined in a program.\n",
    "\n",
    "#defining a function\n",
    "def key_word(name): \n",
    "    \"\"\"prints the name of the user\"\"\"\n",
    "    print(\"hello \"+name)\n",
    "    return\n",
    "\n",
    "#calling a function\n",
    "\n",
    "key_word(laxman)\n",
    "\n",
    "\n",
    "  "
   ]
  },
  {
   "cell_type": "markdown",
   "id": "64013a09",
   "metadata": {},
   "source": [
    "# 5. How many global scopes are there in a Python program? How many local scopes?\n"
   ]
  },
  {
   "cell_type": "code",
   "execution_count": null,
   "id": "821c3803",
   "metadata": {},
   "outputs": [],
   "source": [
    "The location where we can find the variables & access it & use it if required is called scope of a variable.\n",
    "\n",
    "Depending on where the variable is located it is categorized into global scope & local scope.\n",
    "\n",
    "there are four types of scope in order of hierrachy \n",
    "1.built in scope..\n",
    "2.global scope\n",
    "3. enclosing scope\n",
    "4.local scope\n",
    "\n",
    "Global scope are accessed by all it is not particular to any function. You can use to access inside a function & \n",
    "as well as outside a program.\n",
    "\n",
    "\n",
    "Local Scope--if a variable with same name as  global variable is assigned inside a function scope\n",
    "it will give the value inside the function.not the global value.\n",
    "\n",
    "\n",
    "def global_var():\n",
    "    \n",
    "    global l # for printing global variable if we want only the local variable remove the statements lines 3 &4\n",
    "    print(l)\n",
    "    \n",
    "    l=\"sigma\" #l is local variable here\n",
    "    print(l)\n",
    "    \n",
    "# Global scope\n",
    "l= \"python\" # l=global variable here\n",
    "global_var()\n"
   ]
  },
  {
   "cell_type": "markdown",
   "id": "ce621933",
   "metadata": {},
   "source": [
    "# 6. What happens to variables in a local scope when the function call returns?"
   ]
  },
  {
   "cell_type": "code",
   "execution_count": null,
   "id": "13480920",
   "metadata": {},
   "outputs": [],
   "source": [
    "The local variable stores the values assigned to it inside particular defined function.\n",
    "it retains its value until the next time the function is called\n",
    "A local variable becomes undefined after the function call completes.\n",
    "\n",
    "# once the function is called\n",
    "\n",
    "def square():\n",
    "    \n",
    "    x=4\n",
    "    y = x ** 2\n",
    "    return (y)\n",
    "\n",
    "\n",
    "x=5\n",
    "print(x**2) #value of x here is 5 & not 4\n"
   ]
  },
  {
   "cell_type": "markdown",
   "id": "e067830c",
   "metadata": {},
   "source": [
    "# 7. What is the concept of a return value? Is it possible to have a return value in an expression?"
   ]
  },
  {
   "cell_type": "code",
   "execution_count": null,
   "id": "4e1c97f1",
   "metadata": {},
   "outputs": [],
   "source": [
    "A return statement is used to end the execution of the function call and “returns” the result \n",
    "(value of the expression following the return keyword) to the caller.\n",
    "\n",
    "The statements after the return statements are not executed in general. \n",
    "if the return statement is without any expression, then the special value None is returned. \n",
    "\n",
    "def square():\n",
    "    \n",
    "    x=4\n",
    "    y = x ** 2 #-->function statements performs the operation here & stored in y\n",
    "    return y  # the y value generated above ireturned to the function in line 7\n",
    "\n",
    "square() # when function is called it carries out the operations in above function & returns output in the form of integer,\n",
    "#strings,float and others\n"
   ]
  },
  {
   "cell_type": "markdown",
   "id": "dce8c6b2",
   "metadata": {},
   "source": [
    "# 8. If a function does not have a return statement, what is the return value of a call to that function?"
   ]
  },
  {
   "cell_type": "code",
   "execution_count": null,
   "id": "685c4af5",
   "metadata": {},
   "outputs": [],
   "source": [
    "if you call the function which doesnot have any return statement it doesnt return any value nor it will not \n",
    "show any error too\n",
    "  \n",
    "#function  defined\n",
    "def square():\n",
    "    \n",
    "    x=4\n",
    "    y = x ** 2\n",
    "    \n",
    "    \n",
    "#function called \n",
    "square()\n",
    "\n",
    "#function  defined\n",
    "def square():\n",
    "    \n",
    "    x=4\n",
    "    y = x ** 2\n",
    "    print (y)\n",
    "    \n",
    "#function called    \n",
    "square()\n",
    "\n",
    "#check type\n",
    "\n",
    "type(square())\n",
    "\n",
    "NoneType"
   ]
  },
  {
   "cell_type": "markdown",
   "id": "33d2efeb",
   "metadata": {},
   "source": [
    "# How do you make a function variable refer to the global variable?"
   ]
  },
  {
   "cell_type": "code",
   "execution_count": null,
   "id": "abcd0fbf",
   "metadata": {},
   "outputs": [],
   "source": [
    "A fuction variable can be refered to global variable by using the keyword global\n",
    "\n",
    "in the below example we have l as local variable as well as global variable.\n",
    "\n",
    "in order to change local variable inside a function to global we can use global before the variable.\n",
    "\n",
    "def global_var():\n",
    "    \n",
    "    global l # for printing global variable if we want only the local variable remove the statements lines 3 &4\n",
    "    print(l)\n",
    "    \n",
    "    l=\"sigma\" #l is local variable here\n",
    "    print(l)\n",
    "    \n",
    "# Global scope\n",
    "l= \"python\" # l=global variable here\n",
    "global_var()\n",
    "\n"
   ]
  },
  {
   "cell_type": "markdown",
   "id": "f77e3f57",
   "metadata": {},
   "source": [
    "\n",
    "# 10. What is the data type of None?"
   ]
  },
  {
   "cell_type": "code",
   "execution_count": null,
   "id": "5a22f795",
   "metadata": {},
   "outputs": [],
   "source": [
    "The None keyword is used to define a null value, or no value at all.\n",
    "None is neither zero,empty string nor a False in boolean type \n",
    "\n",
    "eg:\n",
    "\n",
    "print(type(None)\n",
    "      \n",
    "<class 'NoneType'>\n",
    "      \n",
    "\n",
    "      "
   ]
  },
  {
   "cell_type": "markdown",
   "id": "73750e9b",
   "metadata": {},
   "source": [
    "# What does the sentence import areallyourpetsnamederic do"
   ]
  },
  {
   "cell_type": "code",
   "execution_count": 19,
   "id": "55eb7005",
   "metadata": {},
   "outputs": [],
   "source": [
    "import areallyourpetsnamederic\n",
    "\n",
    "#import statement imports the module areallyourpetsnamederic\n",
    "# after importing the module it will try to access the functions in the given module (if the module exists) the above \n",
    "#module doesnt exist"
   ]
  },
  {
   "cell_type": "code",
   "execution_count": 3,
   "id": "93e66d96",
   "metadata": {},
   "outputs": [],
   "source": [
    "#example to import above with a file\n",
    "\n",
    "f=open(\"areallyourpetsnamederic.txt\",\"w\")\n",
    "f.write(\"this is a text to check import ofareallyourpetsnamederic \")\n",
    "f.close()\n"
   ]
  },
  {
   "cell_type": "code",
   "execution_count": 4,
   "id": "97d47a0a",
   "metadata": {},
   "outputs": [
    {
     "data": {
      "text/plain": [
       "'this is a text to check import ofareallyourpetsnamederic'"
      ]
     },
     "execution_count": 4,
     "metadata": {},
     "output_type": "execute_result"
    }
   ],
   "source": [
    "import areallyourpetsnamederic\n",
    "\n",
    "areallyourpetsnamederic.read_msg()\n",
    "\n"
   ]
  },
  {
   "cell_type": "markdown",
   "id": "dd99066a",
   "metadata": {},
   "source": [
    "# If you had a bacon() feature in a spam module, what would you call it after importing spam?"
   ]
  },
  {
   "cell_type": "code",
   "execution_count": null,
   "id": "6c92460d",
   "metadata": {},
   "outputs": [],
   "source": [
    "import spam\n",
    "\n",
    "spam.bacon()"
   ]
  },
  {
   "cell_type": "markdown",
   "id": "a9ad0c4a",
   "metadata": {},
   "source": [
    "# 13. What can you do to save a programme from crashing if it encounters an error?"
   ]
  },
  {
   "cell_type": "code",
   "execution_count": null,
   "id": "dc50a802",
   "metadata": {},
   "outputs": [],
   "source": [
    "Exceptional handling is used to save a program from crashing if it encounters an error\n",
    "\n",
    "Exception handling using \n",
    "try - except \n",
    "try - except - finally\n",
    "\n",
    "\n",
    "\n"
   ]
  },
  {
   "cell_type": "markdown",
   "id": "2dc5aa44",
   "metadata": {},
   "source": [
    "# #14. What is the purpose of the try clause? What is the purpose of the except clause?"
   ]
  },
  {
   "cell_type": "code",
   "execution_count": null,
   "id": "e8b1685a",
   "metadata": {},
   "outputs": [],
   "source": [
    "try\n",
    "-->RESERVED KEY WORD IN PYTHON what ever code written inside it that will be protected by raising an exception handling.\n",
    "these are used to enclose a suspicious code.\n",
    "if the code fails in try block the cursor move except clause\n",
    "\n",
    "except-->the except clause handles the error if it doesnt handle it\n",
    "cursor move to the next try statements-->even if it fails to handle then it raises an error\n",
    "\n",
    " you can overwrite any exception with custom msgs with raise\n",
    "system will accept it\n",
    "\n",
    "errors--compile time error-->while running program .i.e run time error--->taken care by exceptional handling\n",
    "syntaxerror are not handled by exceptional handling "
   ]
  }
 ],
 "metadata": {
  "kernelspec": {
   "display_name": "Python 3",
   "language": "python",
   "name": "python3"
  },
  "language_info": {
   "codemirror_mode": {
    "name": "ipython",
    "version": 3
   },
   "file_extension": ".py",
   "mimetype": "text/x-python",
   "name": "python",
   "nbconvert_exporter": "python",
   "pygments_lexer": "ipython3",
   "version": "3.8.8"
  }
 },
 "nbformat": 4,
 "nbformat_minor": 5
}
