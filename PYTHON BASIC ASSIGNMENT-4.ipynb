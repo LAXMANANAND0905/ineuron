{
 "cells": [
  {
   "cell_type": "markdown",
   "id": "43c11f1a",
   "metadata": {},
   "source": [
    "# What exactly is [] ?"
   ]
  },
  {
   "cell_type": "code",
   "execution_count": null,
   "id": "803e0780",
   "metadata": {},
   "outputs": [],
   "source": [
    "The Square parentheses in python is used to represent a list.\n",
    "list is used to store multiple items in single variable\n",
    "list items are ordered,mutable & allows the duplicate values.\n",
    "\n",
    "eg: x=[\"cat\",\"apple\",123,23.5]"
   ]
  },
  {
   "cell_type": "markdown",
   "id": "a2f75a80",
   "metadata": {},
   "source": [
    "# 2. In a list of values stored in a variable called spam, how would you assign the value 'hello' as the third value? (Assume [2, 4, 6, 8, 10] are in spam.)"
   ]
  },
  {
   "cell_type": "code",
   "execution_count": 1,
   "id": "2c62ad19",
   "metadata": {},
   "outputs": [],
   "source": [
    "spam=[2,4,6,8,10]"
   ]
  },
  {
   "cell_type": "code",
   "execution_count": 2,
   "id": "7edcff30",
   "metadata": {},
   "outputs": [],
   "source": [
    "#use insert operation in list\n",
    "\n",
    "spam.insert(2,\"hello\")"
   ]
  },
  {
   "cell_type": "code",
   "execution_count": 3,
   "id": "5f4843b7",
   "metadata": {},
   "outputs": [
    {
     "data": {
      "text/plain": [
       "[2, 4, 'hello', 6, 8, 10]"
      ]
     },
     "execution_count": 3,
     "metadata": {},
     "output_type": "execute_result"
    }
   ],
   "source": [
    "spam"
   ]
  },
  {
   "cell_type": "markdown",
   "id": "17e5332f",
   "metadata": {},
   "source": [
    "\n",
    "# Let's pretend the spam includes the list ['a', 'b', 'c', 'd'] for the next three queries."
   ]
  },
  {
   "cell_type": "code",
   "execution_count": 9,
   "id": "fa89fd71",
   "metadata": {},
   "outputs": [],
   "source": [
    "\n",
    "spam =['a','b','c','d']"
   ]
  },
  {
   "cell_type": "markdown",
   "id": "f970ba88",
   "metadata": {},
   "source": [
    "# 3. What is the value of spam[int(int('3' * 2) / 11)]?"
   ]
  },
  {
   "cell_type": "code",
   "execution_count": null,
   "id": "e5c78d6d",
   "metadata": {},
   "outputs": [],
   "source": [
    "# list indexing \n",
    "\n",
    "spam[int(int('3' * 2) / 11)]\n"
   ]
  },
  {
   "cell_type": "markdown",
   "id": "47fa3d1d",
   "metadata": {},
   "source": [
    "# 4. What is the value of spam[-1]?"
   ]
  },
  {
   "cell_type": "code",
   "execution_count": 11,
   "id": "87596069",
   "metadata": {},
   "outputs": [
    {
     "data": {
      "text/plain": [
       "'d'"
      ]
     },
     "execution_count": 11,
     "metadata": {},
     "output_type": "execute_result"
    }
   ],
   "source": [
    "#reverse indexing-starts with -1\n",
    "spam[-1]"
   ]
  },
  {
   "cell_type": "markdown",
   "id": "4b6affd8",
   "metadata": {},
   "source": [
    "# 5. What is the value of spam[:2]?"
   ]
  },
  {
   "cell_type": "code",
   "execution_count": 12,
   "id": "3b2a03b5",
   "metadata": {},
   "outputs": [
    {
     "data": {
      "text/plain": [
       "['a', 'b']"
      ]
     },
     "execution_count": 12,
     "metadata": {},
     "output_type": "execute_result"
    }
   ],
   "source": [
    "#list slicing-->starts at index zero & excludes the end index mentioned .end index-1 is result\n",
    "spam[:2]"
   ]
  },
  {
   "cell_type": "markdown",
   "id": "5cd790e9",
   "metadata": {},
   "source": [
    "# Let's pretend bacon has the list [3.14, 'cat,' 11, 'cat,' True] for the next three questions."
   ]
  },
  {
   "cell_type": "markdown",
   "id": "6a58156f",
   "metadata": {},
   "source": [
    "# 6. What is the value of bacon.index('cat')?"
   ]
  },
  {
   "cell_type": "code",
   "execution_count": 15,
   "id": "53371ba7",
   "metadata": {},
   "outputs": [],
   "source": [
    "bacon=[3.14, 'cat', 11, 'cat', True] "
   ]
  },
  {
   "cell_type": "code",
   "execution_count": 17,
   "id": "d0332eb5",
   "metadata": {},
   "outputs": [
    {
     "data": {
      "text/plain": [
       "1"
      ]
     },
     "execution_count": 17,
     "metadata": {},
     "output_type": "execute_result"
    }
   ],
   "source": [
    " \n",
    "bacon.index('cat')\n",
    "#index operation shows the first item  index number in the list if we have a duplicate"
   ]
  },
  {
   "cell_type": "markdown",
   "id": "8c5b8943",
   "metadata": {},
   "source": [
    "\n",
    "# 7. How does bacon.append(99) change the look of the list value in bacon?"
   ]
  },
  {
   "cell_type": "code",
   "execution_count": 19,
   "id": "118ba314",
   "metadata": {},
   "outputs": [],
   "source": [
    "bacon.append(99)"
   ]
  },
  {
   "cell_type": "code",
   "execution_count": 21,
   "id": "0e516349",
   "metadata": {},
   "outputs": [
    {
     "data": {
      "text/plain": [
       "[3.14, 'cat', 11, 'cat', True, 99]"
      ]
     },
     "execution_count": 21,
     "metadata": {},
     "output_type": "execute_result"
    }
   ],
   "source": [
    "#whatever entry is appended/added to existing list it will attach at end of existing list.\n",
    "bacon"
   ]
  },
  {
   "cell_type": "markdown",
   "id": "705b2f24",
   "metadata": {},
   "source": [
    "# 8. How does bacon.remove('cat') change the look of the list in bacon?"
   ]
  },
  {
   "cell_type": "code",
   "execution_count": 22,
   "id": "0db85c88",
   "metadata": {},
   "outputs": [],
   "source": [
    "bacon.remove('cat')"
   ]
  },
  {
   "cell_type": "code",
   "execution_count": 23,
   "id": "67c12ce4",
   "metadata": {},
   "outputs": [
    {
     "data": {
      "text/plain": [
       "[3.14, 11, 'cat', True, 99]"
      ]
     },
     "execution_count": 23,
     "metadata": {},
     "output_type": "execute_result"
    }
   ],
   "source": [
    "# remove item will be checking from the zeroth index and remove the first item it encounters of the given word..\n",
    "bacon"
   ]
  },
  {
   "cell_type": "markdown",
   "id": "0a55d151",
   "metadata": {},
   "source": [
    "# 9. What are the list concatenation and list replication operators?"
   ]
  },
  {
   "cell_type": "code",
   "execution_count": null,
   "id": "89e860a8",
   "metadata": {},
   "outputs": [],
   "source": [
    "list concatenation means adding or appending one list to another and forming a single list or\n",
    "adding two different lists and forming a 3rd new list containing items of first 2 lists\n",
    "\n",
    "concatenation operator used is '+'\n",
    "eg: a=[1,2,3]\n",
    "    b=['x','y'] :concatination of a+b\n",
    "    [1,2,3,'x','y']\n",
    "\n",
    "list replication is used to multiply the list, it repeats the existing list as per the number multiplied\n",
    "\n",
    "replication operator '*'\n",
    "\n",
    "a=[1,2,3]\n",
    "\n",
    "a*3\n",
    "\n",
    "#output\n",
    "\n",
    "[1, 2, 3, 1, 2, 3, 1, 2, 3]"
   ]
  },
  {
   "cell_type": "markdown",
   "id": "b3c875fd",
   "metadata": {},
   "source": [
    "# 10. What is difference between the list methods append() and insert()?"
   ]
  },
  {
   "cell_type": "code",
   "execution_count": null,
   "id": "be22d03c",
   "metadata": {},
   "outputs": [],
   "source": [
    "list.append()-->will add the new item entered into a list at the end of last item in the list \n",
    "\n",
    "eg a=['a','b','c']\n",
    "   b=1\n",
    "  a.append(b)\n",
    "  a\n",
    "#output\n",
    "  ['a,b','c',1]\n",
    "    \n",
    "list.insert()-->With insert(position, new_entry) you can create a new entry exactly in the position you want.\n",
    "  \n",
    "    eg a=['a','b','c']\n",
    "   b=1\n",
    "  a.insert(1,b)\n",
    "  a\n",
    "#output\n",
    "  ['a', 1, 'b', 'c']\n",
    "    \n",
    "here 1 is inserted at index 1 int above list.\n"
   ]
  },
  {
   "cell_type": "markdown",
   "id": "306a7cf3",
   "metadata": {},
   "source": [
    "# 11. What are the two methods for removing items from a list?"
   ]
  },
  {
   "cell_type": "code",
   "execution_count": null,
   "id": "2ec5a006",
   "metadata": {},
   "outputs": [],
   "source": [
    "remove & pop are the two methods available to remove items from a list.\n",
    "\n",
    "remove-->will remove the first element matchng with the elemt in the list\n",
    "\n",
    "list_1=[3.14, 'cat', 11, 'cat', True] \n",
    "\n",
    "list_1.remove('cat')\n",
    "\n",
    "list_1\n",
    "\n",
    " [3.14, 11, 'cat', True] #output\n",
    "    \n",
    "pop-->will remove the element specified which it finds at particular index position or if just pop is given it will\n",
    "remove the last element in the list\n",
    "\n",
    "list_1=[3.14, 'cat', 11, 'cat', True] \n",
    "list_1.pop()\n",
    "#output\n",
    "[3.14, 'cat', 11, 'cat'] #last item is removed\n",
    "\n",
    "list_1.pop(1)\n",
    " \n",
    "pops out 'cat' at index 1\n",
    "\n",
    "list_1\n",
    "\n",
    "[3.14, 11, 'cat', True]\n",
    " "
   ]
  },
  {
   "cell_type": "markdown",
   "id": "d12702d2",
   "metadata": {},
   "source": [
    "# 12. Describe how list values and string values are identical."
   ]
  },
  {
   "cell_type": "code",
   "execution_count": null,
   "id": "1eed5681",
   "metadata": {},
   "outputs": [],
   "source": [
    "Strings--> sequential collections of characters. \n",
    "individual characters that make up a string are in a particular order from left to right.\n",
    "\n",
    "Lists are similar to strings,which are ordered collections of characters.\n",
    "\n",
    "\n",
    "The similarity between Lists and Strings in Python is that both are sequences\n",
    "Both strings and lists have lengths:\n",
    "Each character in a string as well as each item in a list has a position, also called an index.\n",
    "\n",
    "string=\"alpha\"         list_string=[\"alpha\",\"beta\",\"gamma\",1,2,3]\n",
    "len(string)               len(list_string)\n",
    "#output 5               #output 6\n",
    "\n",
    "string[0]              list_string[0]\n",
    "#output a              #output \"alpha\"\n",
    "\n"
   ]
  },
  {
   "cell_type": "markdown",
   "id": "c0d7fb27",
   "metadata": {},
   "source": [
    "# 13. What's the difference between tuples and lists?"
   ]
  },
  {
   "cell_type": "code",
   "execution_count": null,
   "id": "42c5b274",
   "metadata": {},
   "outputs": [],
   "source": [
    "\n",
    "List                                                  Tuple\n",
    "1.mutable                                         1.immutable\n",
    "2.syntax:list=[]                                  2.syntax:tuple=()\n",
    "3.consume more memory                             3.consume less memory\n",
    "4.better for performing operations,               4.appropriate for accessing the elements(cant be changed)\n",
    "such as insertion and deletion.\n",
    "5. several built-in methods                        5. few built-in methods(only index & count)\n",
    "6.unexpected changes and errors                    6.unexpected changes and errors hard to occur\n",
    "are more likely to occur"
   ]
  },
  {
   "cell_type": "markdown",
   "id": "b54375b7",
   "metadata": {},
   "source": [
    "# 14. How do you type a tuple value that only contains the integer 42?"
   ]
  },
  {
   "cell_type": "code",
   "execution_count": null,
   "id": "14c40335",
   "metadata": {},
   "outputs": [],
   "source": [
    "tuple value containing only single integer should be followed by a comma(mandatory) otherwise python considers \n",
    "it as integer \n",
    "eg:tu=(42)                           tu=(42,)\n",
    "    type(tu)                         type(tu)\n",
    "    #output                          #output \n",
    "    int                               tuple\n",
    "    "
   ]
  },
  {
   "cell_type": "markdown",
   "id": "4d9efcaa",
   "metadata": {},
   "source": [
    "# 15 How do you get a list value's tuple form? How do you get a tuple value's list form?"
   ]
  },
  {
   "cell_type": "code",
   "execution_count": null,
   "id": "dc9e25b1",
   "metadata": {},
   "outputs": [],
   "source": [
    "list values tuple form & tuple values in list form can be done in multiple ways\n",
    "\n",
    "1. firstly using list & tuples\n",
    "eg: lst1=[(1,2),(3,4)(5,6)]\n",
    "    \n",
    "2.using zip function & list\n",
    "eg:lst1=[1,2,3,4]\n",
    "    lst2=[a,b,c,d]\n",
    "    lst3=list(zip(lst1,lst2))\n",
    "    lst3=[(1,a),(2,b),(3,c),(4,d)]\n",
    "    \n",
    "3.list of tuples using iter() function along with zip() function\n",
    "\n",
    "eg:alphabet=['a','b','c','d']\n",
    "    \n",
    "lst_alphabet=[x for x in zip(*[iter(alphabet)])]\n",
    "\n",
    "lst_alphabet\n",
    "\n",
    "#output [('a',), ('b',), ('c',), ('d',)]\n",
    "\n",
    "4.using map function\n",
    "\n",
    "lst = [[80],[\"coding\"],[\"anand\"],[5335]]\n",
    "lst_tuple =list(map(tuple, lst))\n",
    "print(lst_tuple)\n",
    "\n",
    "#output [(80,), ('coding',), ('anand',), (5335,)]\n",
    "\n",
    "list values tuple form\n",
    "\n",
    "1.Typecasting to tuple can be done by simply using tuple(list_name).\n",
    "eg: \n",
    "lst = [1, 2, 3, 4]\n",
    "convert=tuple(lst)\n",
    "(1, 2, 3, 4)\n",
    "\n",
    "2.use a loop inside tuple() \n",
    "\n",
    "lst = [1, 2, 3, 4]\n",
    "tuple_list= tuple(i for i in lst)\n",
    "print(tuple_list)\n",
    "\n",
    "#output=(1,2,3,4)\n",
    "\n",
    "3.using (*list, to unpack the list & convert to tuple\n",
    "\n",
    "lst1 = [1, 2, 3, 4]\n",
    "convert =*lst1,\n",
    "         \n",
    "#output=(1,2,3,4)\n"
   ]
  },
  {
   "cell_type": "markdown",
   "id": "5f83cb93",
   "metadata": {},
   "source": [
    "# 16. Variables that \"contain\" list values are not necessarily lists themselves. Instead, what do they contain?"
   ]
  },
  {
   "cell_type": "code",
   "execution_count": null,
   "id": "a8a9a7c1",
   "metadata": {},
   "outputs": [],
   "source": [
    "Variables will contain references to list values rather than list values themselves.\n",
    "using of references whenever variables must store values of mutable data types such as lists or dictionaries\n",
    "for strings,integers or tuples python will store the value itself since they are immutable\n",
    "\n",
    "string  & integer values ,varaibles contain the string or integer value"
   ]
  },
  {
   "cell_type": "markdown",
   "id": "f5bb202a",
   "metadata": {},
   "source": [
    "# 17.How do you distinguish between copy.copy() and copy.deepcopy()?"
   ]
  },
  {
   "cell_type": "code",
   "execution_count": null,
   "id": "1a87aeb1",
   "metadata": {},
   "outputs": [],
   "source": [
    "1.shallow copy-->copy.copy()\n",
    "\n",
    "creates a new object which stores the references of original elements.\n",
    "\n",
    "modification is done after copy so the values of the initial list will be same.\n",
    "\n",
    "it behaves differently in simple list & and a nested list.\n",
    "\n",
    "#example for shallow copy with simple list\n",
    "lst1=[1,2,3,4]\n",
    "lst2=copy.copy(lst1)\n",
    "lst2\n",
    "lst2.append(\"Niva\")\n",
    "lst2\n",
    "\n",
    "[1, 2, 3, 4,'Niva']\n",
    "\n",
    "lst1\n",
    "[1, 2, 3, 4]\n",
    "\n",
    "# example for shallow copy\n",
    "lst1=[[1,2],3,4]\n",
    "lst2=copy.deepcopy(lst1)\n",
    "lst2\n",
    "lst2[0][0]=\"Niva\"\n",
    "lst2\n",
    "\n",
    "[['Niva', 2], 3, 4]\n",
    "\n",
    "lst1\n",
    "[['Niva', 2], 3, 4]\n",
    "\n",
    "\n",
    "\n",
    "2.deep copy--->copy.deepcopy()\n",
    "\n",
    "creates a new object and recrusively adds the nested elements present in the original elements.\n",
    "\n",
    "generally used for nested list\n",
    "\n",
    "immmutable objects string,integer ,tuples cannot be modified\n",
    "\n",
    "list will be different from the initial list in case of nested lists.\n",
    "# example for deep copy\n",
    "lst1=[[1,2],3,4]\n",
    "lst2=copy.deepcopy(lst1)\n",
    "lst2\n",
    "lst2[0][0]=\"Niva\"\n",
    "lst2\n",
    "\n",
    "[['Niva', 2], 3, 4]\n",
    "\n",
    "lst1\n",
    "[[1, 2], 3, 4]\n",
    "\n",
    "\n"
   ]
  }
 ],
 "metadata": {
  "kernelspec": {
   "display_name": "Python 3",
   "language": "python",
   "name": "python3"
  },
  "language_info": {
   "codemirror_mode": {
    "name": "ipython",
    "version": 3
   },
   "file_extension": ".py",
   "mimetype": "text/x-python",
   "name": "python",
   "nbconvert_exporter": "python",
   "pygments_lexer": "ipython3",
   "version": "3.8.8"
  }
 },
 "nbformat": 4,
 "nbformat_minor": 5
}
