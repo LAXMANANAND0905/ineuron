{
 "cells": [
  {
   "cell_type": "markdown",
   "id": "7f6e4245",
   "metadata": {},
   "source": [
    "# 1. What are escape characters, and how do you use them?"
   ]
  },
  {
   "cell_type": "code",
   "execution_count": null,
   "id": "c62ed7f4",
   "metadata": {},
   "outputs": [],
   "source": [
    "An escape character lets us use characters that are otherwise impossible to \n",
    "put into a string.\n",
    "An escape character is a backslash \\ followed by the character you want to insert.\n",
    "\n",
    "(Despite consisting of two characters, it is commonly referred to as a singular escape character.) \n",
    "\n",
    "eg:\n",
    "\n",
    "spam= 'we are working on \\'ineuron\\' platform'\n",
    "\n",
    "spam\n",
    "\n",
    "#output\n",
    "\n",
    "\"we are working on 'ineuron' platform\"\n",
    "\n"
   ]
  },
  {
   "cell_type": "markdown",
   "id": "b74f571c",
   "metadata": {},
   "source": [
    "# 2. What do the escape characters n and t stand for?"
   ]
  },
  {
   "cell_type": "code",
   "execution_count": null,
   "id": "3de4512d",
   "metadata": {},
   "outputs": [],
   "source": [
    "escape character starts with a blackslash & followed by a character\n",
    "“\\n” indicates that the line ends here and the remaining characters would be displayed in a new line.\n",
    "\n",
    "eg:\n",
    "print(\"I\\'m laxman \\n I live in Hyderabad\")\n",
    "\n",
    "#output\n",
    "\n",
    "I'm laxman \n",
    "I live in Hyderabad\n",
    "\n",
    "\"\\t\" indicates that it stays in the same line but gives a 4space(tab) gap.\n",
    "\n",
    "eg:\n",
    "print(\"laxman\\tanand\")\n",
    "#output\n",
    "laxman\tanand"
   ]
  },
  {
   "cell_type": "markdown",
   "id": "07b1667a",
   "metadata": {},
   "source": [
    "# 3. What is the way to include backslash characters in a string?"
   ]
  },
  {
   "cell_type": "code",
   "execution_count": null,
   "id": "98b49cf7",
   "metadata": {},
   "outputs": [],
   "source": [
    "The \\\\ escape character will represent a backslash character.\n",
    "eg:\n",
    "    \n",
    "my_address=\"Hyderabad\\\\Telangana\\\\India-506001\"\n",
    "\n",
    "print(my_address)\n",
    "\n",
    "#output\n",
    "Hyderabad\\Telangana\\India-506001"
   ]
  },
  {
   "cell_type": "markdown",
   "id": "32b46ddc",
   "metadata": {},
   "source": [
    "# 4. The string \"Howl's Moving Castle\" is a correct value. Why isn't the single quote character in the word Howl's not escaped a problem?"
   ]
  },
  {
   "cell_type": "code",
   "execution_count": null,
   "id": "bdef0d90",
   "metadata": {},
   "outputs": [],
   "source": [
    "The single quote in Howl's is fine .\n",
    "Since we are using \"\" to start and end the string.\n"
   ]
  },
  {
   "cell_type": "markdown",
   "id": "cbefc0e2",
   "metadata": {},
   "source": [
    "# 5. How do you write a string of newlines if you don't want to use the n character?"
   ]
  },
  {
   "cell_type": "code",
   "execution_count": null,
   "id": "f88ffb31",
   "metadata": {},
   "outputs": [],
   "source": [
    "multiline strings are  used to write a string of newlines without using n character.\n",
    "\n",
    "It is represented by \"\"\" \"\"\".\n",
    "\n",
    "generally Docstring: are written in multiline strings\n",
    "    \n",
    "eg:\n",
    "    \n",
    "\"\"\"This is a standard msg to write a string of newlines\n",
    "if you don't want to use the n character \n",
    "&doing it by using the multiline string format\"\"\"\n"
   ]
  },
  {
   "cell_type": "markdown",
   "id": "8b3017fa",
   "metadata": {},
   "source": [
    "# 6. What are the values of the given expressions?\n",
    "\n",
    "\n"
   ]
  },
  {
   "cell_type": "code",
   "execution_count": 1,
   "id": "80e02955",
   "metadata": {},
   "outputs": [
    {
     "data": {
      "text/plain": [
       "'e'"
      ]
     },
     "execution_count": 1,
     "metadata": {},
     "output_type": "execute_result"
    }
   ],
   "source": [
    "'Hello, world!'[1] #gives the index position 1\n",
    " "
   ]
  },
  {
   "cell_type": "code",
   "execution_count": 2,
   "id": "e8f55722",
   "metadata": {},
   "outputs": [
    {
     "data": {
      "text/plain": [
       "'Hello'"
      ]
     },
     "execution_count": 2,
     "metadata": {},
     "output_type": "execute_result"
    }
   ],
   "source": [
    "'Hello, world!'[0:5] # slicing operation starts at 0 index & excludes last index"
   ]
  },
  {
   "cell_type": "code",
   "execution_count": 3,
   "id": "30656539",
   "metadata": {},
   "outputs": [
    {
     "data": {
      "text/plain": [
       "'Hello'"
      ]
     },
     "execution_count": 3,
     "metadata": {},
     "output_type": "execute_result"
    }
   ],
   "source": [
    "'Hello, world!'[:5] # slicing operation starts at 0 index since nothing is mentioned it starts\n",
    "                     # at zero index & excludes last index"
   ]
  },
  {
   "cell_type": "code",
   "execution_count": 4,
   "id": "49c051c5",
   "metadata": {},
   "outputs": [
    {
     "data": {
      "text/plain": [
       "'lo, world!'"
      ]
     },
     "execution_count": 4,
     "metadata": {},
     "output_type": "execute_result"
    }
   ],
   "source": [
    "'Hello, world!'[3:]# slicing operation starts at 3rd index  mentioned & ends at last index since it is not mentioned"
   ]
  },
  {
   "cell_type": "markdown",
   "id": "9d4a6ad6",
   "metadata": {},
   "source": [
    "# 7. What are the values of the following expressions?"
   ]
  },
  {
   "cell_type": "code",
   "execution_count": 5,
   "id": "eff6c037",
   "metadata": {},
   "outputs": [
    {
     "data": {
      "text/plain": [
       "'HELLO'"
      ]
     },
     "execution_count": 5,
     "metadata": {},
     "output_type": "execute_result"
    }
   ],
   "source": [
    "'Hello'.upper() # upper() operation converts all the characters into upper case"
   ]
  },
  {
   "cell_type": "code",
   "execution_count": 6,
   "id": "7fb5a50f",
   "metadata": {},
   "outputs": [
    {
     "data": {
      "text/plain": [
       "True"
      ]
     },
     "execution_count": 6,
     "metadata": {},
     "output_type": "execute_result"
    }
   ],
   "source": [
    "'Hello'.upper().isupper() #isupper() check whether given string is upper or not & gives a boolean expression True or False"
   ]
  },
  {
   "cell_type": "code",
   "execution_count": 7,
   "id": "0f7ab39f",
   "metadata": {},
   "outputs": [
    {
     "data": {
      "text/plain": [
       "'hello'"
      ]
     },
     "execution_count": 7,
     "metadata": {},
     "output_type": "execute_result"
    }
   ],
   "source": [
    "'Hello'.upper().lower() #final operation is lower so it converts the case into lower case"
   ]
  },
  {
   "cell_type": "markdown",
   "id": "882b65fc",
   "metadata": {},
   "source": [
    "# 8. What are the values of the following expressions?"
   ]
  },
  {
   "cell_type": "code",
   "execution_count": 9,
   "id": "af6dde0f",
   "metadata": {},
   "outputs": [
    {
     "data": {
      "text/plain": [
       "['Remember,', 'remember,', 'the', 'fifth', 'of', 'July.']"
      ]
     },
     "execution_count": 9,
     "metadata": {},
     "output_type": "execute_result"
    }
   ],
   "source": [
    "'Remember, remember, the fifth of July.'.split() \n",
    "#split() splits the string/statement into individual character/words & gives it in a list form."
   ]
  },
  {
   "cell_type": "code",
   "execution_count": 10,
   "id": "9e809f10",
   "metadata": {},
   "outputs": [
    {
     "data": {
      "text/plain": [
       "'There-can-only-one.'"
      ]
     },
     "execution_count": 10,
     "metadata": {},
     "output_type": "execute_result"
    }
   ],
   "source": [
    "'-'.join('There can only one.'.split()) "
   ]
  },
  {
   "cell_type": "markdown",
   "id": "7bd370d0",
   "metadata": {},
   "source": [
    "# 9. What are the methods for right-justifying, left-justifying, and centering a string?"
   ]
  },
  {
   "cell_type": "code",
   "execution_count": null,
   "id": "b6e09adf",
   "metadata": {},
   "outputs": [],
   "source": [
    "right-justifying is done using-->rjust()\n",
    "\n",
    "syntax: string.rjust(width,fillchar) #fill any character in the space\n",
    "\n",
    "eg:\n",
    "string=\"laxman\"\n",
    "\n",
    "string.rjust(10,'*')\n",
    "\n",
    "#output\n",
    "'****laxman'\n",
    "\n",
    "left-justifying is done using-->ljust()\n",
    "\n",
    "syntax: string.ljust(width,fillchar) #fill any character in the space\n",
    "\n",
    "eg:\n",
    "string=\"laxman\"\n",
    "\n",
    "string.ljust(10,'*')\n",
    "\n",
    "#output\n",
    "'laxman****'\n",
    "\n",
    "center-justifying is done using-->center()\n",
    "\n",
    "syntax: string.center(width,fillchar) #fill any character in the space\n",
    "\n",
    "eg:\n",
    "string=\"laxman\"\n",
    "\n",
    "string.center(20,'*')\n",
    "\n",
    "#output\n",
    "'*******laxman*******'"
   ]
  },
  {
   "cell_type": "markdown",
   "id": "9bbc0142",
   "metadata": {},
   "source": [
    "# 10. What is the best way to remove whitespace characters from the start or end?"
   ]
  },
  {
   "cell_type": "code",
   "execution_count": null,
   "id": "f9d9f259",
   "metadata": {},
   "outputs": [],
   "source": [
    "strip() is used along with the string to remove whitespace characters from the start or end in python\n",
    "\n",
    "rstrip()\n",
    "string=\"        whitespaces         \"\n",
    "string.rstrip(\" \") #removes spaces on right\n",
    "\n",
    "#output\n",
    "'        whitespaces'\n",
    "\n",
    "lstrip()\n",
    "string=\"        whitespaces         \"\n",
    "string.lstrip(\" \") #removes spaces on right\n",
    "\n",
    "#output\n",
    "'whitespaces         '\n",
    "\n",
    "replace()\n",
    "\n",
    "string=\"         This is to replace whitespace                    \"\n",
    "string.replace(\" \",\"\")\n",
    "\n",
    "#output\n",
    "'Thisistoreplacewhitespace'\n"
   ]
  },
  {
   "cell_type": "code",
   "execution_count": null,
   "id": "3bdbaa96",
   "metadata": {},
   "outputs": [],
   "source": []
  }
 ],
 "metadata": {
  "kernelspec": {
   "display_name": "Python 3",
   "language": "python",
   "name": "python3"
  },
  "language_info": {
   "codemirror_mode": {
    "name": "ipython",
    "version": 3
   },
   "file_extension": ".py",
   "mimetype": "text/x-python",
   "name": "python",
   "nbconvert_exporter": "python",
   "pygments_lexer": "ipython3",
   "version": "3.8.8"
  }
 },
 "nbformat": 4,
 "nbformat_minor": 5
}
